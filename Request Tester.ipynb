{
 "cells": [
  {
   "cell_type": "markdown",
   "metadata": {},
   "source": [
    "# Import Statements"
   ]
  },
  {
   "cell_type": "markdown",
   "metadata": {},
   "source": [
    "## Normal Import Statements"
   ]
  },
  {
   "cell_type": "code",
   "execution_count": 1,
   "metadata": {
    "collapsed": true
   },
   "outputs": [],
   "source": [
    "import json\n",
    "from bs4 import BeautifulSoup as bs\n",
    "import requests"
   ]
  },
  {
   "cell_type": "markdown",
   "metadata": {},
   "source": [
    "## AWS Import Statements"
   ]
  },
  {
   "cell_type": "code",
   "execution_count": 4,
   "metadata": {},
   "outputs": [],
   "source": [
    "import boto3"
   ]
  },
  {
   "cell_type": "markdown",
   "metadata": {},
   "source": [
    "# Exception Classes"
   ]
  },
  {
   "cell_type": "code",
   "execution_count": 10,
   "metadata": {
    "collapsed": true
   },
   "outputs": [],
   "source": [
    "class InvalidIndex(Exception):\n",
    "    pass"
   ]
  },
  {
   "cell_type": "markdown",
   "metadata": {},
   "source": [
    "# WebScrapers"
   ]
  },
  {
   "cell_type": "markdown",
   "metadata": {},
   "source": [
    "### Webpage Fetcher\n",
    "Given a url, return the text of the webpage behind that url."
   ]
  },
  {
   "cell_type": "code",
   "execution_count": 51,
   "metadata": {
    "collapsed": true
   },
   "outputs": [],
   "source": [
    "def get_webpage(webpage):\n",
    "    return requests.get(\n",
    "        webpage,\n",
    "        headers={\n",
    "            'user-agent': 'Mozilla/5.0 (Macintosh; Intel Mac OS X 10_13_1) AppleWebKit/537.36 (KHTML, like Gecko) Chrome/63.0.3239.84 Safari/537.36'\n",
    "        }\n",
    "    ).text"
   ]
  },
  {
   "cell_type": "markdown",
   "metadata": {},
   "source": [
    "### Stats Page Scraper\n",
    "Given the id of a question, fetch the stats of that given question. "
   ]
  },
  {
   "cell_type": "code",
   "execution_count": 52,
   "metadata": {
    "collapsed": true
   },
   "outputs": [],
   "source": [
    "def get_stat_webpage_data(question_id):\n",
    "    webpage = 'https://willyoupressthebutton.com/{0}/stats'.format(question_id)\n",
    "    webpage_content = get_webpage(webpage)\n",
    "    \n",
    "    soup = bs(webpage_content, 'html.parser')\n",
    "    \n",
    "    main_container = soup.find(id='maincontainer')\n",
    "    \n",
    "    if main_container is None:\n",
    "        raise InvalidIndex({\n",
    "            \"message\":\"No question found with that index\", \n",
    "            \"index\": question_id\n",
    "        })\n",
    "    \n",
    "    stats = [stat for stat in [a for a in main_container.find(id='statsBar').children][1].children]\n",
    "    \n",
    "    did_press = stats[1].getText()\n",
    "    did_press_count = int(did_press.split()[0])\n",
    "    \n",
    "    didnt_press = stats[3].getText()\n",
    "    didnt_press_count = int(didnt_press.split()[0])\n",
    "\n",
    "    dilemma = [a for a in main_container.find(id='dilemma').children]\n",
    "    pro = dilemma[1].getText().strip()\n",
    "    con = dilemma[5].getText().strip()\n",
    "    \n",
    "    return {\n",
    "        'link': webpage,\n",
    "        'index': question_id,\n",
    "        'pro': pro,\n",
    "        'con': con,\n",
    "        'did_press_count': did_press_count,\n",
    "        'didnt_press_count': didnt_press_count\n",
    "    }"
   ]
  },
  {
   "cell_type": "markdown",
   "metadata": {},
   "source": [
    "### Random Question Scraper\n",
    "Goes to the main page of willyoupressthebutton.com, and scrapes to figure out the given question, stats, and question id. "
   ]
  },
  {
   "cell_type": "code",
   "execution_count": 53,
   "metadata": {
    "collapsed": true
   },
   "outputs": [],
   "source": [
    "def get_main_webpage_data():\n",
    "    webpage = 'https://willyoupressthebutton.com'\n",
    "    webpage_content = get_webpage(webpage)\n",
    "    \n",
    "    soup = bs(webpage_content, 'html.parser')\n",
    "    \n",
    "    main_container = soup.find(id='maincontainer')\n",
    "    \n",
    "    yes_button_container = main_container.find(id='yesbtn')\n",
    "    question_id = int(yes_button_container['href'].split('/')[1])\n",
    "    \n",
    "    pro_container = main_container.find(id='cond')\n",
    "    pro_text = pro_container.getText().strip()\n",
    "    \n",
    "    con_container = main_container.find(id='res')\n",
    "    con_text = con_container.getText().strip()\n",
    "    \n",
    "    return {\n",
    "        'id': question_id,\n",
    "        'pro_text': pro_text,\n",
    "        'con_text': con_text\n",
    "    }"
   ]
  },
  {
   "cell_type": "markdown",
   "metadata": {},
   "source": [
    "### Question Respone Scraper\n",
    "Given a question ID and the user's response, notify the website, and get the most updated stats about the question. "
   ]
  },
  {
   "cell_type": "code",
   "execution_count": 92,
   "metadata": {},
   "outputs": [],
   "source": [
    "def get_response_stats_data(question_id, user_response):\n",
    "    webpage = 'https://willyoupressthebutton.com/{0}/'.format(question_id)\n",
    "    if user_response: \n",
    "        webpage += 'yes'\n",
    "    else: \n",
    "        webpage += 'no'\n",
    "\n",
    "    webpage_content = get_webpage(webpage)\n",
    "    \n",
    "    soup = bs(webpage_content, 'html.parser')\n",
    "    \n",
    "    main_container = soup.find(id='maincontainer')\n",
    "    \n",
    "    if main_container is None:\n",
    "        raise InvalidIndex({\n",
    "            \"message\":\"No question found with that index\", \n",
    "            \"index\": question_id\n",
    "        })\n",
    "    \n",
    "    stats = [stat for stat in [a for a in main_container.find(id='statsBar').children][1].children]\n",
    "    \n",
    "    did_press = stats[1].getText()\n",
    "    did_press_count = int(did_press.split()[0])\n",
    "    did_press_percent = int(did_press[did_press.index('(') + 1: did_press.index(')') - 1])\n",
    "    \n",
    "    didnt_press = stats[3].getText()\n",
    "    didnt_press_count = int(didnt_press.split()[0])\n",
    "    didnt_press_percent = 100 - did_press_percent\n",
    "    \n",
    "    return {\n",
    "        'id': question_id,\n",
    "        'pro_count': did_press_count,\n",
    "        'con_count': didnt_press_count,\n",
    "        'pro_percent': did_press_percent,\n",
    "        'con_percent': didnt_press_percent\n",
    "    }"
   ]
  },
  {
   "cell_type": "code",
   "execution_count": 96,
   "metadata": {
    "collapsed": true
   },
   "outputs": [],
   "source": [
    "data = get_main_webpage_data()"
   ]
  },
  {
   "cell_type": "code",
   "execution_count": 97,
   "metadata": {},
   "outputs": [
    {
     "data": {
      "text/plain": [
       "{'con_text': 'You will melt when you touch water',\n",
       " 'id': 2183,\n",
       " 'pro_text': 'Be able to harness the powers of fire and become immune to heat'}"
      ]
     },
     "execution_count": 97,
     "metadata": {},
     "output_type": "execute_result"
    }
   ],
   "source": [
    "data"
   ]
  },
  {
   "cell_type": "code",
   "execution_count": 95,
   "metadata": {},
   "outputs": [
    {
     "data": {
      "text/plain": [
       "{'con_count': 35479,\n",
       " 'con_percent': 59,\n",
       " 'id': 47248,\n",
       " 'pro_count': 24881,\n",
       " 'pro_percent': 41}"
      ]
     },
     "execution_count": 95,
     "metadata": {},
     "output_type": "execute_result"
    }
   ],
   "source": [
    "get_response_stats_data(data['id'], True)"
   ]
  },
  {
   "cell_type": "code",
   "execution_count": null,
   "metadata": {
    "collapsed": true
   },
   "outputs": [],
   "source": []
  }
 ],
 "metadata": {
  "kernelspec": {
   "display_name": "Python 3",
   "language": "python",
   "name": "python3"
  },
  "language_info": {
   "codemirror_mode": {
    "name": "ipython",
    "version": 3
   },
   "file_extension": ".py",
   "mimetype": "text/x-python",
   "name": "python",
   "nbconvert_exporter": "python",
   "pygments_lexer": "ipython3",
   "version": "3.6.1"
  }
 },
 "nbformat": 4,
 "nbformat_minor": 2
}
